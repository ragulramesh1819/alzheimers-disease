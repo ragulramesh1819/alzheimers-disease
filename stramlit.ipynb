{
  "cells": [
    {
      "cell_type": "code",
      "execution_count": 1,
      "metadata": {
        "colab": {
          "base_uri": "https://localhost:8080/"
        },
        "id": "0hNsWXXJxkxG",
        "outputId": "e4ee82ee-1acb-4f0e-a355-8507bd698bea"
      },
      "outputs": [
        {
          "name": "stdout",
          "output_type": "stream",
          "text": [
            "Collecting streamlit\n",
            "  Using cached streamlit-1.43.2-py2.py3-none-any.whl.metadata (8.9 kB)\n",
            "Collecting altair<6,>=4.0 (from streamlit)\n",
            "  Using cached altair-5.5.0-py3-none-any.whl.metadata (11 kB)\n",
            "Collecting blinker<2,>=1.0.0 (from streamlit)\n",
            "  Using cached blinker-1.9.0-py3-none-any.whl.metadata (1.6 kB)\n",
            "Collecting cachetools<6,>=4.0 (from streamlit)\n",
            "  Using cached cachetools-5.5.2-py3-none-any.whl.metadata (5.4 kB)\n",
            "Collecting click<9,>=7.0 (from streamlit)\n",
            "  Using cached click-8.1.8-py3-none-any.whl.metadata (2.3 kB)\n",
            "Requirement already satisfied: numpy<3,>=1.23 in c:\\users\\ragul\\miniconda3\\envs\\tvm-build-venv\\lib\\site-packages (from streamlit) (2.0.2)\n",
            "Requirement already satisfied: packaging<25,>=20 in c:\\users\\ragul\\miniconda3\\envs\\tvm-build-venv\\lib\\site-packages (from streamlit) (24.2)\n",
            "Collecting pandas<3,>=1.4.0 (from streamlit)\n",
            "  Downloading pandas-2.2.3-cp311-cp311-win_amd64.whl.metadata (19 kB)\n",
            "Collecting pillow<12,>=7.1.0 (from streamlit)\n",
            "  Downloading pillow-11.1.0-cp311-cp311-win_amd64.whl.metadata (9.3 kB)\n",
            "Requirement already satisfied: protobuf<6,>=3.20 in c:\\users\\ragul\\miniconda3\\envs\\tvm-build-venv\\lib\\site-packages (from streamlit) (5.29.3)\n",
            "Collecting pyarrow>=7.0 (from streamlit)\n",
            "  Downloading pyarrow-19.0.1-cp311-cp311-win_amd64.whl.metadata (3.4 kB)\n",
            "Requirement already satisfied: requests<3,>=2.27 in c:\\users\\ragul\\miniconda3\\envs\\tvm-build-venv\\lib\\site-packages (from streamlit) (2.32.3)\n",
            "Collecting tenacity<10,>=8.1.0 (from streamlit)\n",
            "  Using cached tenacity-9.0.0-py3-none-any.whl.metadata (1.2 kB)\n",
            "Collecting toml<2,>=0.10.1 (from streamlit)\n",
            "  Using cached toml-0.10.2-py2.py3-none-any.whl.metadata (7.1 kB)\n",
            "Requirement already satisfied: typing-extensions<5,>=4.4.0 in c:\\users\\ragul\\miniconda3\\envs\\tvm-build-venv\\lib\\site-packages (from streamlit) (4.12.2)\n",
            "Collecting watchdog<7,>=2.1.5 (from streamlit)\n",
            "  Using cached watchdog-6.0.0-py3-none-win_amd64.whl.metadata (44 kB)\n",
            "Collecting gitpython!=3.1.19,<4,>=3.0.7 (from streamlit)\n",
            "  Using cached GitPython-3.1.44-py3-none-any.whl.metadata (13 kB)\n",
            "Collecting pydeck<1,>=0.8.0b4 (from streamlit)\n",
            "  Using cached pydeck-0.9.1-py2.py3-none-any.whl.metadata (4.1 kB)\n",
            "Requirement already satisfied: tornado<7,>=6.0.3 in c:\\users\\ragul\\miniconda3\\envs\\tvm-build-venv\\lib\\site-packages (from streamlit) (6.4.2)\n",
            "Collecting jinja2 (from altair<6,>=4.0->streamlit)\n",
            "  Using cached jinja2-3.1.6-py3-none-any.whl.metadata (2.9 kB)\n",
            "Collecting jsonschema>=3.0 (from altair<6,>=4.0->streamlit)\n",
            "  Using cached jsonschema-4.23.0-py3-none-any.whl.metadata (7.9 kB)\n",
            "Collecting narwhals>=1.14.2 (from altair<6,>=4.0->streamlit)\n",
            "  Using cached narwhals-1.30.0-py3-none-any.whl.metadata (11 kB)\n",
            "Requirement already satisfied: colorama in c:\\users\\ragul\\miniconda3\\envs\\tvm-build-venv\\lib\\site-packages (from click<9,>=7.0->streamlit) (0.4.6)\n",
            "Collecting gitdb<5,>=4.0.1 (from gitpython!=3.1.19,<4,>=3.0.7->streamlit)\n",
            "  Using cached gitdb-4.0.12-py3-none-any.whl.metadata (1.2 kB)\n",
            "Requirement already satisfied: python-dateutil>=2.8.2 in c:\\users\\ragul\\miniconda3\\envs\\tvm-build-venv\\lib\\site-packages (from pandas<3,>=1.4.0->streamlit) (2.9.0.post0)\n",
            "Collecting pytz>=2020.1 (from pandas<3,>=1.4.0->streamlit)\n",
            "  Using cached pytz-2025.1-py2.py3-none-any.whl.metadata (22 kB)\n",
            "Collecting tzdata>=2022.7 (from pandas<3,>=1.4.0->streamlit)\n",
            "  Using cached tzdata-2025.1-py2.py3-none-any.whl.metadata (1.4 kB)\n",
            "Requirement already satisfied: charset-normalizer<4,>=2 in c:\\users\\ragul\\miniconda3\\envs\\tvm-build-venv\\lib\\site-packages (from requests<3,>=2.27->streamlit) (3.4.1)\n",
            "Requirement already satisfied: idna<4,>=2.5 in c:\\users\\ragul\\miniconda3\\envs\\tvm-build-venv\\lib\\site-packages (from requests<3,>=2.27->streamlit) (3.10)\n",
            "Requirement already satisfied: urllib3<3,>=1.21.1 in c:\\users\\ragul\\miniconda3\\envs\\tvm-build-venv\\lib\\site-packages (from requests<3,>=2.27->streamlit) (2.3.0)\n",
            "Requirement already satisfied: certifi>=2017.4.17 in c:\\users\\ragul\\miniconda3\\envs\\tvm-build-venv\\lib\\site-packages (from requests<3,>=2.27->streamlit) (2025.1.31)\n",
            "Collecting smmap<6,>=3.0.1 (from gitdb<5,>=4.0.1->gitpython!=3.1.19,<4,>=3.0.7->streamlit)\n",
            "  Using cached smmap-5.0.2-py3-none-any.whl.metadata (4.3 kB)\n",
            "Requirement already satisfied: MarkupSafe>=2.0 in c:\\users\\ragul\\miniconda3\\envs\\tvm-build-venv\\lib\\site-packages (from jinja2->altair<6,>=4.0->streamlit) (3.0.2)\n",
            "Collecting attrs>=22.2.0 (from jsonschema>=3.0->altair<6,>=4.0->streamlit)\n",
            "  Downloading attrs-25.2.0-py3-none-any.whl.metadata (11 kB)\n",
            "Collecting jsonschema-specifications>=2023.03.6 (from jsonschema>=3.0->altair<6,>=4.0->streamlit)\n",
            "  Using cached jsonschema_specifications-2024.10.1-py3-none-any.whl.metadata (3.0 kB)\n",
            "Collecting referencing>=0.28.4 (from jsonschema>=3.0->altair<6,>=4.0->streamlit)\n",
            "  Using cached referencing-0.36.2-py3-none-any.whl.metadata (2.8 kB)\n",
            "Collecting rpds-py>=0.7.1 (from jsonschema>=3.0->altair<6,>=4.0->streamlit)\n",
            "  Downloading rpds_py-0.23.1-cp311-cp311-win_amd64.whl.metadata (4.2 kB)\n",
            "Requirement already satisfied: six>=1.5 in c:\\users\\ragul\\miniconda3\\envs\\tvm-build-venv\\lib\\site-packages (from python-dateutil>=2.8.2->pandas<3,>=1.4.0->streamlit) (1.17.0)\n",
            "Using cached streamlit-1.43.2-py2.py3-none-any.whl (9.7 MB)\n",
            "Using cached altair-5.5.0-py3-none-any.whl (731 kB)\n",
            "Using cached blinker-1.9.0-py3-none-any.whl (8.5 kB)\n",
            "Using cached cachetools-5.5.2-py3-none-any.whl (10 kB)\n",
            "Using cached click-8.1.8-py3-none-any.whl (98 kB)\n",
            "Using cached GitPython-3.1.44-py3-none-any.whl (207 kB)\n",
            "Downloading pandas-2.2.3-cp311-cp311-win_amd64.whl (11.6 MB)\n",
            "   ---------------------------------------- 0.0/11.6 MB ? eta -:--:--\n",
            "   ---------------------------------------- 0.0/11.6 MB ? eta -:--:--\n",
            "    --------------------------------------- 0.3/11.6 MB ? eta -:--:--\n",
            "   - -------------------------------------- 0.5/11.6 MB 1.2 MB/s eta 0:00:10\n",
            "   -- ------------------------------------- 0.8/11.6 MB 1.3 MB/s eta 0:00:09\n",
            "   --- ------------------------------------ 1.0/11.6 MB 1.3 MB/s eta 0:00:09\n",
            "   ----- ---------------------------------- 1.6/11.6 MB 1.6 MB/s eta 0:00:07\n",
            "   ------- -------------------------------- 2.1/11.6 MB 1.9 MB/s eta 0:00:06\n",
            "   --------- ------------------------------ 2.9/11.6 MB 2.0 MB/s eta 0:00:05\n",
            "   ------------ --------------------------- 3.7/11.6 MB 2.2 MB/s eta 0:00:04\n",
            "   -------------- ------------------------- 4.2/11.6 MB 2.4 MB/s eta 0:00:04\n",
            "   ------------------ --------------------- 5.2/11.6 MB 2.6 MB/s eta 0:00:03\n",
            "   --------------------- ------------------ 6.3/11.6 MB 2.8 MB/s eta 0:00:02\n",
            "   ------------------------- -------------- 7.3/11.6 MB 3.0 MB/s eta 0:00:02\n",
            "   --------------------------- ------------ 8.1/11.6 MB 3.1 MB/s eta 0:00:02\n",
            "   ------------------------------ --------- 8.9/11.6 MB 3.2 MB/s eta 0:00:01\n",
            "   ----------------------------------- ---- 10.2/11.6 MB 3.4 MB/s eta 0:00:01\n",
            "   ------------------------------------- -- 11.0/11.6 MB 3.4 MB/s eta 0:00:01\n",
            "   ---------------------------------------- 11.6/11.6 MB 3.4 MB/s eta 0:00:00\n",
            "Downloading pillow-11.1.0-cp311-cp311-win_amd64.whl (2.6 MB)\n",
            "   ---------------------------------------- 0.0/2.6 MB ? eta -:--:--\n",
            "   --- ------------------------------------ 0.3/2.6 MB ? eta -:--:--\n",
            "   ----------- ---------------------------- 0.8/2.6 MB 1.6 MB/s eta 0:00:02\n",
            "   --------------------------- ------------ 1.8/2.6 MB 2.9 MB/s eta 0:00:01\n",
            "   ---------------------------------------- 2.6/2.6 MB 3.3 MB/s eta 0:00:00\n",
            "Downloading pyarrow-19.0.1-cp311-cp311-win_amd64.whl (25.3 MB)\n",
            "   ---------------------------------------- 0.0/25.3 MB ? eta -:--:--\n",
            "   -- ------------------------------------- 1.6/25.3 MB 11.9 MB/s eta 0:00:02\n",
            "   ---- ----------------------------------- 2.9/25.3 MB 8.0 MB/s eta 0:00:03\n",
            "   ------ --------------------------------- 3.9/25.3 MB 6.9 MB/s eta 0:00:04\n",
            "   -------- ------------------------------- 5.5/25.3 MB 7.0 MB/s eta 0:00:03\n",
            "   ---------- ----------------------------- 6.8/25.3 MB 6.8 MB/s eta 0:00:03\n",
            "   ------------ --------------------------- 8.1/25.3 MB 6.7 MB/s eta 0:00:03\n",
            "   -------------- ------------------------- 9.2/25.3 MB 6.5 MB/s eta 0:00:03\n",
            "   --------------- ------------------------ 10.0/25.3 MB 6.2 MB/s eta 0:00:03\n",
            "   ----------------- ---------------------- 10.7/25.3 MB 6.2 MB/s eta 0:00:03\n",
            "   ------------------ --------------------- 11.5/25.3 MB 5.7 MB/s eta 0:00:03\n",
            "   ------------------- -------------------- 12.1/25.3 MB 5.5 MB/s eta 0:00:03\n",
            "   -------------------- ------------------- 13.1/25.3 MB 5.4 MB/s eta 0:00:03\n",
            "   ---------------------- ----------------- 14.2/25.3 MB 5.4 MB/s eta 0:00:03\n",
            "   ------------------------ --------------- 15.2/25.3 MB 5.3 MB/s eta 0:00:02\n",
            "   ------------------------- -------------- 16.3/25.3 MB 5.3 MB/s eta 0:00:02\n",
            "   -------------------------- ------------- 17.0/25.3 MB 5.2 MB/s eta 0:00:02\n",
            "   ----------------------------- ---------- 18.4/25.3 MB 5.3 MB/s eta 0:00:02\n",
            "   ------------------------------ --------- 19.4/25.3 MB 5.3 MB/s eta 0:00:02\n",
            "   ------------------------------- -------- 19.9/25.3 MB 5.1 MB/s eta 0:00:02\n",
            "   -------------------------------- ------- 20.7/25.3 MB 5.0 MB/s eta 0:00:01\n",
            "   ---------------------------------- ----- 21.8/25.3 MB 5.0 MB/s eta 0:00:01\n",
            "   ----------------------------------- ---- 22.3/25.3 MB 4.9 MB/s eta 0:00:01\n",
            "   ----------------------------------- ---- 22.5/25.3 MB 4.8 MB/s eta 0:00:01\n",
            "   ------------------------------------ --- 23.3/25.3 MB 4.7 MB/s eta 0:00:01\n",
            "   ------------------------------------- -- 23.9/25.3 MB 4.6 MB/s eta 0:00:01\n",
            "   -------------------------------------- - 24.4/25.3 MB 4.6 MB/s eta 0:00:01\n",
            "   ---------------------------------------- 25.3/25.3 MB 4.5 MB/s eta 0:00:00\n",
            "Using cached pydeck-0.9.1-py2.py3-none-any.whl (6.9 MB)\n",
            "Using cached tenacity-9.0.0-py3-none-any.whl (28 kB)\n",
            "Using cached toml-0.10.2-py2.py3-none-any.whl (16 kB)\n",
            "Using cached watchdog-6.0.0-py3-none-win_amd64.whl (79 kB)\n",
            "Using cached gitdb-4.0.12-py3-none-any.whl (62 kB)\n",
            "Using cached jinja2-3.1.6-py3-none-any.whl (134 kB)\n",
            "Using cached jsonschema-4.23.0-py3-none-any.whl (88 kB)\n",
            "Using cached narwhals-1.30.0-py3-none-any.whl (313 kB)\n",
            "Using cached pytz-2025.1-py2.py3-none-any.whl (507 kB)\n",
            "Using cached tzdata-2025.1-py2.py3-none-any.whl (346 kB)\n",
            "Downloading attrs-25.2.0-py3-none-any.whl (64 kB)\n",
            "Using cached jsonschema_specifications-2024.10.1-py3-none-any.whl (18 kB)\n",
            "Using cached referencing-0.36.2-py3-none-any.whl (26 kB)\n",
            "Downloading rpds_py-0.23.1-cp311-cp311-win_amd64.whl (232 kB)\n",
            "Using cached smmap-5.0.2-py3-none-any.whl (24 kB)\n",
            "Installing collected packages: pytz, watchdog, tzdata, toml, tenacity, smmap, rpds-py, pyarrow, pillow, narwhals, jinja2, click, cachetools, blinker, attrs, referencing, pydeck, pandas, gitdb, jsonschema-specifications, gitpython, jsonschema, altair, streamlit\n",
            "Successfully installed altair-5.5.0 attrs-25.2.0 blinker-1.9.0 cachetools-5.5.2 click-8.1.8 gitdb-4.0.12 gitpython-3.1.44 jinja2-3.1.6 jsonschema-4.23.0 jsonschema-specifications-2024.10.1 narwhals-1.30.0 pandas-2.2.3 pillow-11.1.0 pyarrow-19.0.1 pydeck-0.9.1 pytz-2025.1 referencing-0.36.2 rpds-py-0.23.1 smmap-5.0.2 streamlit-1.43.2 tenacity-9.0.0 toml-0.10.2 tzdata-2025.1 watchdog-6.0.0\n"
          ]
        },
        {
          "name": "stderr",
          "output_type": "stream",
          "text": [
            "\n",
            "[notice] A new release of pip is available: 25.0 -> 25.0.1\n",
            "[notice] To update, run: python.exe -m pip install --upgrade pip\n"
          ]
        },
        {
          "name": "stdout",
          "output_type": "stream",
          "text": [
            "Requirement already satisfied: tensorflow in c:\\users\\ragul\\miniconda3\\envs\\tvm-build-venv\\lib\\site-packages (2.18.0)\n",
            "Requirement already satisfied: tensorflow-intel==2.18.0 in c:\\users\\ragul\\miniconda3\\envs\\tvm-build-venv\\lib\\site-packages (from tensorflow) (2.18.0)\n",
            "Requirement already satisfied: absl-py>=1.0.0 in c:\\users\\ragul\\miniconda3\\envs\\tvm-build-venv\\lib\\site-packages (from tensorflow-intel==2.18.0->tensorflow) (2.1.0)\n",
            "Requirement already satisfied: astunparse>=1.6.0 in c:\\users\\ragul\\miniconda3\\envs\\tvm-build-venv\\lib\\site-packages (from tensorflow-intel==2.18.0->tensorflow) (1.6.3)\n",
            "Requirement already satisfied: flatbuffers>=24.3.25 in c:\\users\\ragul\\miniconda3\\envs\\tvm-build-venv\\lib\\site-packages (from tensorflow-intel==2.18.0->tensorflow) (25.2.10)\n",
            "Requirement already satisfied: gast!=0.5.0,!=0.5.1,!=0.5.2,>=0.2.1 in c:\\users\\ragul\\miniconda3\\envs\\tvm-build-venv\\lib\\site-packages (from tensorflow-intel==2.18.0->tensorflow) (0.6.0)\n",
            "Requirement already satisfied: google-pasta>=0.1.1 in c:\\users\\ragul\\miniconda3\\envs\\tvm-build-venv\\lib\\site-packages (from tensorflow-intel==2.18.0->tensorflow) (0.2.0)\n",
            "Requirement already satisfied: libclang>=13.0.0 in c:\\users\\ragul\\miniconda3\\envs\\tvm-build-venv\\lib\\site-packages (from tensorflow-intel==2.18.0->tensorflow) (18.1.1)\n",
            "Requirement already satisfied: opt-einsum>=2.3.2 in c:\\users\\ragul\\miniconda3\\envs\\tvm-build-venv\\lib\\site-packages (from tensorflow-intel==2.18.0->tensorflow) (3.4.0)\n",
            "Requirement already satisfied: packaging in c:\\users\\ragul\\miniconda3\\envs\\tvm-build-venv\\lib\\site-packages (from tensorflow-intel==2.18.0->tensorflow) (24.2)\n",
            "Requirement already satisfied: protobuf!=4.21.0,!=4.21.1,!=4.21.2,!=4.21.3,!=4.21.4,!=4.21.5,<6.0.0dev,>=3.20.3 in c:\\users\\ragul\\miniconda3\\envs\\tvm-build-venv\\lib\\site-packages (from tensorflow-intel==2.18.0->tensorflow) (5.29.3)\n",
            "Requirement already satisfied: requests<3,>=2.21.0 in c:\\users\\ragul\\miniconda3\\envs\\tvm-build-venv\\lib\\site-packages (from tensorflow-intel==2.18.0->tensorflow) (2.32.3)\n",
            "Requirement already satisfied: setuptools in c:\\users\\ragul\\miniconda3\\envs\\tvm-build-venv\\lib\\site-packages (from tensorflow-intel==2.18.0->tensorflow) (75.8.0)\n",
            "Requirement already satisfied: six>=1.12.0 in c:\\users\\ragul\\miniconda3\\envs\\tvm-build-venv\\lib\\site-packages (from tensorflow-intel==2.18.0->tensorflow) (1.17.0)\n",
            "Requirement already satisfied: termcolor>=1.1.0 in c:\\users\\ragul\\miniconda3\\envs\\tvm-build-venv\\lib\\site-packages (from tensorflow-intel==2.18.0->tensorflow) (2.5.0)\n",
            "Requirement already satisfied: typing-extensions>=3.6.6 in c:\\users\\ragul\\miniconda3\\envs\\tvm-build-venv\\lib\\site-packages (from tensorflow-intel==2.18.0->tensorflow) (4.12.2)\n",
            "Requirement already satisfied: wrapt>=1.11.0 in c:\\users\\ragul\\miniconda3\\envs\\tvm-build-venv\\lib\\site-packages (from tensorflow-intel==2.18.0->tensorflow) (1.17.2)\n",
            "Requirement already satisfied: grpcio<2.0,>=1.24.3 in c:\\users\\ragul\\miniconda3\\envs\\tvm-build-venv\\lib\\site-packages (from tensorflow-intel==2.18.0->tensorflow) (1.70.0)\n",
            "Requirement already satisfied: tensorboard<2.19,>=2.18 in c:\\users\\ragul\\miniconda3\\envs\\tvm-build-venv\\lib\\site-packages (from tensorflow-intel==2.18.0->tensorflow) (2.18.0)\n",
            "Requirement already satisfied: keras>=3.5.0 in c:\\users\\ragul\\miniconda3\\envs\\tvm-build-venv\\lib\\site-packages (from tensorflow-intel==2.18.0->tensorflow) (3.9.0)\n",
            "Requirement already satisfied: numpy<2.1.0,>=1.26.0 in c:\\users\\ragul\\miniconda3\\envs\\tvm-build-venv\\lib\\site-packages (from tensorflow-intel==2.18.0->tensorflow) (2.0.2)\n",
            "Requirement already satisfied: h5py>=3.11.0 in c:\\users\\ragul\\miniconda3\\envs\\tvm-build-venv\\lib\\site-packages (from tensorflow-intel==2.18.0->tensorflow) (3.13.0)\n",
            "Requirement already satisfied: ml-dtypes<0.5.0,>=0.4.0 in c:\\users\\ragul\\miniconda3\\envs\\tvm-build-venv\\lib\\site-packages (from tensorflow-intel==2.18.0->tensorflow) (0.4.1)\n",
            "Requirement already satisfied: tensorflow-io-gcs-filesystem>=0.23.1 in c:\\users\\ragul\\miniconda3\\envs\\tvm-build-venv\\lib\\site-packages (from tensorflow-intel==2.18.0->tensorflow) (0.31.0)\n",
            "Requirement already satisfied: wheel<1.0,>=0.23.0 in c:\\users\\ragul\\miniconda3\\envs\\tvm-build-venv\\lib\\site-packages (from astunparse>=1.6.0->tensorflow-intel==2.18.0->tensorflow) (0.45.1)\n",
            "Requirement already satisfied: rich in c:\\users\\ragul\\miniconda3\\envs\\tvm-build-venv\\lib\\site-packages (from keras>=3.5.0->tensorflow-intel==2.18.0->tensorflow) (13.9.4)\n",
            "Requirement already satisfied: namex in c:\\users\\ragul\\miniconda3\\envs\\tvm-build-venv\\lib\\site-packages (from keras>=3.5.0->tensorflow-intel==2.18.0->tensorflow) (0.0.8)\n",
            "Requirement already satisfied: optree in c:\\users\\ragul\\miniconda3\\envs\\tvm-build-venv\\lib\\site-packages (from keras>=3.5.0->tensorflow-intel==2.18.0->tensorflow) (0.14.1)\n",
            "Requirement already satisfied: charset-normalizer<4,>=2 in c:\\users\\ragul\\miniconda3\\envs\\tvm-build-venv\\lib\\site-packages (from requests<3,>=2.21.0->tensorflow-intel==2.18.0->tensorflow) (3.4.1)\n",
            "Requirement already satisfied: idna<4,>=2.5 in c:\\users\\ragul\\miniconda3\\envs\\tvm-build-venv\\lib\\site-packages (from requests<3,>=2.21.0->tensorflow-intel==2.18.0->tensorflow) (3.10)\n",
            "Requirement already satisfied: urllib3<3,>=1.21.1 in c:\\users\\ragul\\miniconda3\\envs\\tvm-build-venv\\lib\\site-packages (from requests<3,>=2.21.0->tensorflow-intel==2.18.0->tensorflow) (2.3.0)\n",
            "Requirement already satisfied: certifi>=2017.4.17 in c:\\users\\ragul\\miniconda3\\envs\\tvm-build-venv\\lib\\site-packages (from requests<3,>=2.21.0->tensorflow-intel==2.18.0->tensorflow) (2025.1.31)\n",
            "Requirement already satisfied: markdown>=2.6.8 in c:\\users\\ragul\\miniconda3\\envs\\tvm-build-venv\\lib\\site-packages (from tensorboard<2.19,>=2.18->tensorflow-intel==2.18.0->tensorflow) (3.7)\n",
            "Requirement already satisfied: tensorboard-data-server<0.8.0,>=0.7.0 in c:\\users\\ragul\\miniconda3\\envs\\tvm-build-venv\\lib\\site-packages (from tensorboard<2.19,>=2.18->tensorflow-intel==2.18.0->tensorflow) (0.7.2)\n",
            "Requirement already satisfied: werkzeug>=1.0.1 in c:\\users\\ragul\\miniconda3\\envs\\tvm-build-venv\\lib\\site-packages (from tensorboard<2.19,>=2.18->tensorflow-intel==2.18.0->tensorflow) (3.1.3)\n",
            "Requirement already satisfied: MarkupSafe>=2.1.1 in c:\\users\\ragul\\miniconda3\\envs\\tvm-build-venv\\lib\\site-packages (from werkzeug>=1.0.1->tensorboard<2.19,>=2.18->tensorflow-intel==2.18.0->tensorflow) (3.0.2)\n",
            "Requirement already satisfied: markdown-it-py>=2.2.0 in c:\\users\\ragul\\miniconda3\\envs\\tvm-build-venv\\lib\\site-packages (from rich->keras>=3.5.0->tensorflow-intel==2.18.0->tensorflow) (3.0.0)\n",
            "Requirement already satisfied: pygments<3.0.0,>=2.13.0 in c:\\users\\ragul\\miniconda3\\envs\\tvm-build-venv\\lib\\site-packages (from rich->keras>=3.5.0->tensorflow-intel==2.18.0->tensorflow) (2.19.1)\n",
            "Requirement already satisfied: mdurl~=0.1 in c:\\users\\ragul\\miniconda3\\envs\\tvm-build-venv\\lib\\site-packages (from markdown-it-py>=2.2.0->rich->keras>=3.5.0->tensorflow-intel==2.18.0->tensorflow) (0.1.2)\n"
          ]
        },
        {
          "name": "stderr",
          "output_type": "stream",
          "text": [
            "\n",
            "[notice] A new release of pip is available: 25.0 -> 25.0.1\n",
            "[notice] To update, run: python.exe -m pip install --upgrade pip\n"
          ]
        }
      ],
      "source": [
        "!pip install streamlit\n",
        "!pip install tensorflow"
      ]
    },
    {
      "cell_type": "code",
      "execution_count": 2,
      "metadata": {
        "id": "fcFFAIbQxN9v"
      },
      "outputs": [],
      "source": [
        "import streamlit as st\n",
        "import tensorflow as tf\n",
        "import numpy as np\n",
        "from PIL import Image\n"
      ]
    },
    {
      "cell_type": "code",
      "execution_count": 3,
      "metadata": {
        "colab": {
          "base_uri": "https://localhost:8080/"
        },
        "id": "9cEaiYOoxjsS",
        "outputId": "f36a76d6-6ff7-4373-cb15-ce96e077f1ae"
      },
      "outputs": [],
      "source": [
        "\n",
        "# Load the trained model\n",
        "@st.cache_resource()\n",
        "def load_model():\n",
        "    model = tf.keras.models.load_model(r\"C:\\Users\\ragul\\Downloads\\alzheimers_prediction.h5\")\n",
        "    return model\n",
        "\n"
      ]
    },
    {
      "cell_type": "code",
      "execution_count": 4,
      "metadata": {},
      "outputs": [
        {
          "name": "stderr",
          "output_type": "stream",
          "text": [
            "2025-03-13 14:48:04.985 WARNING streamlit.runtime.scriptrunner_utils.script_run_context: Thread 'MainThread': missing ScriptRunContext! This warning can be ignored when running in bare mode.\n",
            "2025-03-13 14:48:05.521 \n",
            "  \u001b[33m\u001b[1mWarning:\u001b[0m to view this Streamlit app on a browser, run it with the following\n",
            "  command:\n",
            "\n",
            "    streamlit run c:\\Users\\ragul\\miniconda3\\envs\\tvm-build-venv\\Lib\\site-packages\\ipykernel_launcher.py [ARGUMENTS]\n",
            "2025-03-13 14:48:05.521 Thread 'MainThread': missing ScriptRunContext! This warning can be ignored when running in bare mode.\n",
            "2025-03-13 14:48:05.522 Thread 'MainThread': missing ScriptRunContext! This warning can be ignored when running in bare mode.\n",
            "2025-03-13 14:48:06.030 Thread 'Thread-7': missing ScriptRunContext! This warning can be ignored when running in bare mode.\n",
            "2025-03-13 14:48:06.032 Thread 'Thread-7': missing ScriptRunContext! This warning can be ignored when running in bare mode.\n",
            "WARNING:absl:Compiled the loaded model, but the compiled metrics have yet to be built. `model.compile_metrics` will be empty until you train or evaluate the model.\n",
            "2025-03-13 14:48:06.106 Thread 'MainThread': missing ScriptRunContext! This warning can be ignored when running in bare mode.\n",
            "2025-03-13 14:48:06.106 Thread 'MainThread': missing ScriptRunContext! This warning can be ignored when running in bare mode.\n",
            "2025-03-13 14:48:06.107 Thread 'MainThread': missing ScriptRunContext! This warning can be ignored when running in bare mode.\n",
            "2025-03-13 14:48:06.107 Thread 'MainThread': missing ScriptRunContext! This warning can be ignored when running in bare mode.\n",
            "2025-03-13 14:48:06.107 Thread 'MainThread': missing ScriptRunContext! This warning can be ignored when running in bare mode.\n",
            "2025-03-13 14:48:06.107 Thread 'MainThread': missing ScriptRunContext! This warning can be ignored when running in bare mode.\n",
            "2025-03-13 14:48:06.107 Thread 'MainThread': missing ScriptRunContext! This warning can be ignored when running in bare mode.\n",
            "2025-03-13 14:48:06.107 Thread 'MainThread': missing ScriptRunContext! This warning can be ignored when running in bare mode.\n",
            "2025-03-13 14:48:06.107 Thread 'MainThread': missing ScriptRunContext! This warning can be ignored when running in bare mode.\n",
            "2025-03-13 14:48:06.111 Thread 'MainThread': missing ScriptRunContext! This warning can be ignored when running in bare mode.\n",
            "2025-03-13 14:48:06.111 Thread 'MainThread': missing ScriptRunContext! This warning can be ignored when running in bare mode.\n",
            "2025-03-13 14:48:06.112 Thread 'MainThread': missing ScriptRunContext! This warning can be ignored when running in bare mode.\n",
            "2025-03-13 14:48:06.112 Thread 'MainThread': missing ScriptRunContext! This warning can be ignored when running in bare mode.\n"
          ]
        }
      ],
      "source": [
        "model = load_model()\n",
        "\n",
        "# Define class labels\n",
        "CLASS_NAMES = [\"Mild Demented\", \"Moderate Demented\", \"Non Demented\", \"Very Mild Demented\"]\n",
        "\n",
        "# Streamlit UI\n",
        "st.title(\"Alzheimer's Disease Prediction\")\n",
        "st.write(\"Upload an MRI image to predict the stage of Alzheimer's disease.\")\n",
        "\n",
        "# File uploader\n",
        "uploaded_file = st.file_uploader(\"Choose an image...\")\n",
        "\n",
        "if uploaded_file is not None:\n",
        "    image = Image.open(uploaded_file)\n",
        "    st.image(image, caption=\"Uploaded Image\", use_column_width=True)\n",
        "\n",
        "    # Preprocess the image\n",
        "    img = image.resize((128, 128))  # Resize as per model input size\n",
        "    img_array = np.array(img) / 255.0  # Normalize\n",
        "    img_array = np.expand_dims(img_array, axis=0)  # Add batch dimension\n",
        "\n",
        "    # Make prediction\n",
        "    prediction = model.predict(img_array)\n",
        "    predicted_class = CLASS_NAMES[np.argmax(prediction)]\n",
        "\n",
        "    # Display prediction\n",
        "    st.write(\"### Prediction:\")\n",
        "    st.success(predicted_class)\n"
      ]
    },
    {
      "cell_type": "code",
      "execution_count": null,
      "metadata": {
        "colab": {
          "base_uri": "https://localhost:8080/"
        },
        "id": "00IT8vs8x3wO",
        "outputId": "dd2b5ad7-6a77-4fd0-b1ac-409cfac07593"
      },
      "outputs": [],
      "source": [
        "!streamlit run  c:/Users/ragul/miniconda3/envs/tvm-build-venv/Lib/site-packages/ipykernel_launcher.py"
      ]
    },
    {
      "cell_type": "markdown",
      "metadata": {},
      "source": []
    }
  ],
  "metadata": {
    "accelerator": "GPU",
    "colab": {
      "gpuType": "T4",
      "provenance": []
    },
    "kernelspec": {
      "display_name": "tvm-build-venv",
      "language": "python",
      "name": "python3"
    },
    "language_info": {
      "codemirror_mode": {
        "name": "ipython",
        "version": 3
      },
      "file_extension": ".py",
      "mimetype": "text/x-python",
      "name": "python",
      "nbconvert_exporter": "python",
      "pygments_lexer": "ipython3",
      "version": "3.11.11"
    }
  },
  "nbformat": 4,
  "nbformat_minor": 0
}
